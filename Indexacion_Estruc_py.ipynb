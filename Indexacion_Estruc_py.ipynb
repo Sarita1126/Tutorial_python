{
 "cells": [
  {
   "cell_type": "markdown",
   "metadata": {},
   "source": [
    "# **Indexación de Estructuras**"
   ]
  },
  {
   "cell_type": "markdown",
   "metadata": {},
   "source": [
    "* En Python, la indexación es fundamental para trabajar con estructuras de datos, \n",
    "ya que permite acceder a elementos específicos mediante índices (en listas y tuplas)\n",
    "o claves (en diccionarios). A continuación, se presentan ejemplos prácticos que ilustran\n",
    "cómo se aplica la indexación en distintas estructuras de datos."
   ]
  },
  {
   "cell_type": "markdown",
   "metadata": {},
   "source": [
    "### *Listas*"
   ]
  },
  {
   "cell_type": "code",
   "execution_count": 2,
   "metadata": {},
   "outputs": [],
   "source": [
    "Lista_0 = [20, 30, 40, 50]"
   ]
  },
  {
   "cell_type": "code",
   "execution_count": null,
   "metadata": {},
   "outputs": [
    {
     "name": "stdout",
     "output_type": "stream",
     "text": [
      "20\n",
      "40\n",
      "50\n"
     ]
    }
   ],
   "source": [
    "# Para acceder a los elementos usando las posiciones\n",
    "print(Lista_0[0]) # Accede al primer elemento\n",
    "print(Lista_0[2]) # Accede al tercer elemento\n",
    "print(Lista_0[-1]) # Accede al último elemento"
   ]
  },
  {
   "cell_type": "code",
   "execution_count": 4,
   "metadata": {},
   "outputs": [
    {
     "name": "stdout",
     "output_type": "stream",
     "text": [
      "[20, 29, 40, 50]\n"
     ]
    }
   ],
   "source": [
    "# Para modificar un elemento de la lista\n",
    "Lista_0[1]=29\n",
    "print(Lista_0)"
   ]
  },
  {
   "cell_type": "markdown",
   "metadata": {},
   "source": [
    "### *Tuplas*"
   ]
  },
  {
   "cell_type": "code",
   "execution_count": 5,
   "metadata": {},
   "outputs": [],
   "source": [
    "Tupla_0 = ('Sara', 'Alvarez', 'Mesa')"
   ]
  },
  {
   "cell_type": "code",
   "execution_count": 6,
   "metadata": {},
   "outputs": [
    {
     "name": "stdout",
     "output_type": "stream",
     "text": [
      "Sara\n",
      "Alvarez\n"
     ]
    }
   ],
   "source": [
    "# Para acceder a los elementos usando posiciones\n",
    "print(Tupla_0[0]) # Primer elemento\n",
    "print(Tupla_0[-2]) # Segundo elemento desde el final"
   ]
  },
  {
   "cell_type": "markdown",
   "metadata": {},
   "source": [
    "* Nota: la tupla no se pueden modificar"
   ]
  },
  {
   "cell_type": "markdown",
   "metadata": {},
   "source": [
    "### *Diccionarios*"
   ]
  },
  {
   "cell_type": "markdown",
   "metadata": {},
   "source": [
    "* No se usasn números, sino que los elementos están asociados a una clave"
   ]
  },
  {
   "cell_type": "code",
   "execution_count": 9,
   "metadata": {},
   "outputs": [],
   "source": [
    "comprador = {\n",
    "    'Nombre': 'Fernando',\n",
    "    'Edad': 71,\n",
    "    'Ciudad': 'Medellín'\n",
    "}"
   ]
  },
  {
   "cell_type": "code",
   "execution_count": 10,
   "metadata": {},
   "outputs": [
    {
     "name": "stdout",
     "output_type": "stream",
     "text": [
      "Fernando\n",
      "71\n"
     ]
    }
   ],
   "source": [
    "# Para acceder a los valores usando claves\n",
    "print(comprador['Nombre'])\n",
    "print(comprador.get('Edad'))"
   ]
  },
  {
   "cell_type": "code",
   "execution_count": 11,
   "metadata": {},
   "outputs": [
    {
     "name": "stdout",
     "output_type": "stream",
     "text": [
      "{'Nombre': 'Fernando', 'Edad': 71, 'Ciudad': 'Medellín', 'Profesional': 'Médico'}\n"
     ]
    }
   ],
   "source": [
    "# Para añadir un nuevo par clave-valor\n",
    "comprador['Profesional'] = 'Médico'\n",
    "print(comprador)"
   ]
  }
 ],
 "metadata": {
  "kernelspec": {
   "display_name": "Python 3",
   "language": "python",
   "name": "python3"
  },
  "language_info": {
   "codemirror_mode": {
    "name": "ipython",
    "version": 3
   },
   "file_extension": ".py",
   "mimetype": "text/x-python",
   "name": "python",
   "nbconvert_exporter": "python",
   "pygments_lexer": "ipython3",
   "version": "3.13.1"
  }
 },
 "nbformat": 4,
 "nbformat_minor": 2
}
