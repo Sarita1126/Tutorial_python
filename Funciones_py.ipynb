{
 "cells": [
  {
   "cell_type": "markdown",
   "metadata": {},
   "source": [
    "# **Funciones**"
   ]
  },
  {
   "cell_type": "markdown",
   "metadata": {},
   "source": [
    "Las funciones en Python son bloques de código diseñados para realizar una tarea específica. Pueden ser reutilizadas en diferentes partes del programa, recibir entradas (parámetros), ejecutar una serie de instrucciones y, opcionalmente, devolver un resultado. Son una herramienta fundamental para organizar y optimizar el código."
   ]
  },
  {
   "cell_type": "markdown",
   "metadata": {},
   "source": [
    "### **Definición de la función**"
   ]
  },
  {
   "cell_type": "markdown",
   "metadata": {},
   "source": [
    "Para definir una función en paython utilizamos la palabra **def** seguida del nombre de la función, parentesis y dos puntos (def buscar():)\n",
    "El bloque del código se identará después de los dos puntos"
   ]
  },
  {
   "cell_type": "code",
   "execution_count": 1,
   "metadata": {},
   "outputs": [
    {
     "name": "stdout",
     "output_type": "stream",
     "text": [
      "Cordial Saludo\n"
     ]
    }
   ],
   "source": [
    "# Ejemplo con def\n",
    "def saludar():\n",
    "    print(\"Cordial Saludo\")\n",
    "#Para ejecutar decimos:\n",
    "saludar()"
   ]
  },
  {
   "cell_type": "markdown",
   "metadata": {},
   "source": [
    "### **Parámetros de la función**"
   ]
  },
  {
   "cell_type": "markdown",
   "metadata": {},
   "source": [
    "Las funciones puenden aceptar parámetros o argumentos que son datos que pasan a la función que se llama.\n",
    "Estos parámetros se definen dentro del parentesis"
   ]
  },
  {
   "cell_type": "code",
   "execution_count": 7,
   "metadata": {},
   "outputs": [
    {
     "name": "stdout",
     "output_type": "stream",
     "text": [
      "Cordial Saludo Cesar, Espero que se encuentre bien.\n"
     ]
    }
   ],
   "source": [
    "def Saludar(Nombre):\n",
    "    print(f\"Cordial Saludo {Nombre}, Espero que se encuentre bien.\")\n",
    "    \n",
    "Saludar(\"Cesar\")\n"
   ]
  },
  {
   "cell_type": "markdown",
   "metadata": {},
   "source": [
    "### **Múltiples parámetros**"
   ]
  },
  {
   "cell_type": "markdown",
   "metadata": {},
   "source": [
    "La función se puede aceptar por multiples parámetros separados por comas."
   ]
  },
  {
   "cell_type": "code",
   "execution_count": 8,
   "metadata": {},
   "outputs": [
    {
     "name": "stdout",
     "output_type": "stream",
     "text": [
      "La resta de 2 y 6 es -4\n"
     ]
    }
   ],
   "source": [
    "def resta (S,F):\n",
    "    resultado = S - F\n",
    "    print(f\"La resta de {S} y {F} es {resultado}\")\n",
    "resta(2, 6)"
   ]
  },
  {
   "cell_type": "markdown",
   "metadata": {},
   "source": [
    "### **Valores de retorno (return)**"
   ]
  },
  {
   "cell_type": "markdown",
   "metadata": {},
   "source": [
    "Las funciones pueden devolver valores con la palabra clave **return**, lo cual es útil cuando necesitas usar el reultado de una función para usarlo mas tarde."
   ]
  },
  {
   "cell_type": "code",
   "execution_count": 11,
   "metadata": {},
   "outputs": [
    {
     "name": "stdout",
     "output_type": "stream",
     "text": [
      "8.333333333333334\n"
     ]
    }
   ],
   "source": [
    "def division (S, F):\n",
    "    return S / F\n",
    "#Ejecutamos el código tandole valores:\n",
    "resultado = division(25, 3)\n",
    "print(resultado)"
   ]
  },
  {
   "cell_type": "markdown",
   "metadata": {},
   "source": [
    "\n",
    "### **Parámetros con valores prederminados**"
   ]
  },
  {
   "cell_type": "markdown",
   "metadata": {},
   "source": [
    "Puedes definir los valores determiandos para los parámetros de la función, si el ususario no proporciona un argumento para ese parámetro, se utiliza el valor determinado."
   ]
  },
  {
   "cell_type": "code",
   "execution_count": 14,
   "metadata": {},
   "outputs": [
    {
     "name": "stdout",
     "output_type": "stream",
     "text": [
      "Buen día, Jefe\n",
      "Buen día, Juan Camilo\n"
     ]
    }
   ],
   "source": [
    "def saludar_jefe(nombre=\"Jefe\"):\n",
    "    print(f\"Buen día, {nombre}\")\n",
    "# Si no se proporciona el argumento, el valor \"Jefe\" será usado\n",
    "saludar_jefe()\n",
    "#Si proporcionas el nombre cambia\n",
    "saludar_jefe(\"Juan Camilo\")"
   ]
  },
  {
   "cell_type": "markdown",
   "metadata": {},
   "source": [
    "### **Argumentos con nombre (Keyword arguments)**"
   ]
  },
  {
   "cell_type": "markdown",
   "metadata": {},
   "source": [
    "Cuando corres la función puedes especificarle los parámetros usando el nombre de los mismos, en lugar de seguir el orden en que fueron definidos."
   ]
  },
  {
   "cell_type": "code",
   "execution_count": 15,
   "metadata": {},
   "outputs": [
    {
     "name": "stdout",
     "output_type": "stream",
     "text": [
      "Nombre: Luisa Fernanda, Edad: 23.\n"
     ]
    }
   ],
   "source": [
    "def descri_students(nombre, edad):\n",
    "    print(f\"Nombre: {nombre}, Edad: {edad}.\")\n",
    "# Llenamos los argumentos con la información:\n",
    "descri_students(nombre=\"Luisa Fernanda\", edad=\"23\")"
   ]
  },
  {
   "cell_type": "markdown",
   "metadata": {},
   "source": [
    "### **Alcance de las variables (Scope)**"
   ]
  },
  {
   "cell_type": "markdown",
   "metadata": {},
   "source": [
    "Este determian donde puedes acceder a una variable en tu código, las variablñes definidas dentro de una función son locales en esa función, mientras que las variables definidas fues son globales."
   ]
  },
  {
   "cell_type": "markdown",
   "metadata": {},
   "source": [
    "- **Variables locales**: las variables definidas dentro de una función no son accesibles fuera de ella."
   ]
  },
  {
   "cell_type": "code",
   "execution_count": 17,
   "metadata": {},
   "outputs": [
    {
     "name": "stdout",
     "output_type": "stream",
     "text": [
      "3.141416\n"
     ]
    }
   ],
   "source": [
    "y = 3.141416\n",
    "def función ():\n",
    "    print(y)\n",
    "#Llamar la función creada\n",
    "función()"
   ]
  },
  {
   "cell_type": "code",
   "execution_count": null,
   "metadata": {},
   "outputs": [
    {
     "name": "stdout",
     "output_type": "stream",
     "text": [
      "3.141416\n"
     ]
    }
   ],
   "source": [
    "# Para modificar la variable de una función, usamos el comando 'global':\n",
    "y = 2.141415\n",
    "def funcion2 ():\n",
    "    global y\n",
    "    y = 3.141416\n",
    "funcion2()\n",
    "#Salida del valor inicial que pertenicia a la función\n",
    "print(y)"
   ]
  },
  {
   "cell_type": "markdown",
   "metadata": {},
   "source": [
    "### **Funciones con Lamda**"
   ]
  },
  {
   "cell_type": "markdown",
   "metadata": {},
   "source": [
    "Las funcione con lamda son pequeñas funciones anónimas que se definen en una sola línea y se utiliza para operaciones simples."
   ]
  },
  {
   "cell_type": "code",
   "execution_count": 21,
   "metadata": {},
   "outputs": [
    {
     "name": "stdout",
     "output_type": "stream",
     "text": [
      "[1, 9, 25, 49, 81]\n"
     ]
    }
   ],
   "source": [
    "# la sintaxis de la función lamda es la siguiente:\n",
    "lambda argumetos : expresion \n",
    "\n",
    "# Ejemplo\n",
    "Lista = {1,3,5,7,9}\n",
    "Cuadrado = list(map(lambda x: x**2, Lista))\n",
    "print(Cuadrado)"
   ]
  }
 ],
 "metadata": {
  "kernelspec": {
   "display_name": "Python 3",
   "language": "python",
   "name": "python3"
  },
  "language_info": {
   "codemirror_mode": {
    "name": "ipython",
    "version": 3
   },
   "file_extension": ".py",
   "mimetype": "text/x-python",
   "name": "python",
   "nbconvert_exporter": "python",
   "pygments_lexer": "ipython3",
   "version": "3.13.1"
  }
 },
 "nbformat": 4,
 "nbformat_minor": 2
}
