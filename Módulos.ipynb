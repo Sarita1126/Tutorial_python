{
 "cells": [
  {
   "cell_type": "markdown",
   "metadata": {},
   "source": [
    "# **Módulos e importaciones**"
   ]
  },
  {
   "cell_type": "markdown",
   "metadata": {},
   "source": [
    "Un módulo en Python es simplemente un archivo que contiene definiciones y declaraciones en Python (como funciones, variables y clases) Los módulos ayudan a organizar tu codigo en diferentes archivos, mejorando la legibilidad y facilitando su mantenimiento. "
   ]
  },
  {
   "cell_type": "markdown",
   "metadata": {},
   "source": [
    "### **Como importar módulos**"
   ]
  },
  {
   "cell_type": "markdown",
   "metadata": {},
   "source": [
    "Para importar un módulo en tu programa  debes importarlo; python tiene módulos integrados y puedes importar los tuyos o módulos de terceros:\n",
    "* **Modulo**: este puede contener funciones, variables, clases y otros elemntos de código; python proporciona muchos módulos integrados como math, random, os, entre otros. Tambien permite crear módulos personalizados para adpatarse a las necesidades especificas del proyecto.\n",
    "* **Módulo personalizado**: para crear este módulo simplemente guardas tu codigo en un archivo con extensión .py (codigos.py) que contenga las siguientes funciones:"
   ]
  },
  {
   "cell_type": "code",
   "execution_count": 4,
   "metadata": {},
   "outputs": [],
   "source": [
    "# Ejemplo:\n",
    "# Dentro de un archivo .py que tu elijas puedes crearlo.\n",
    "def dividir(a, b):\n",
    "    return(a/b)\n",
    "def mulltiplicar(a, b):\n",
    "    return(a*b)"
   ]
  },
  {
   "cell_type": "markdown",
   "metadata": {},
   "source": [
    "### **Importación de librerias**"
   ]
  },
  {
   "cell_type": "code",
   "execution_count": 6,
   "metadata": {},
   "outputs": [
    {
     "name": "stdout",
     "output_type": "stream",
     "text": [
      "80.23714850367004\n"
     ]
    }
   ],
   "source": [
    "# Sin el alias\n",
    "import math\n",
    "print(math.sqrt(6438))"
   ]
  },
  {
   "cell_type": "markdown",
   "metadata": {},
   "source": [
    "* En lugar de importar todo el módulo, puedes importar solo lo que necesitas"
   ]
  },
  {
   "cell_type": "code",
   "execution_count": 7,
   "metadata": {},
   "outputs": [
    {
     "name": "stdout",
     "output_type": "stream",
     "text": [
      "31.304951684997057\n"
     ]
    }
   ],
   "source": [
    "from math import sqrt\n",
    "resultado = sqrt(980)\n",
    "print(resultado)"
   ]
  },
  {
   "cell_type": "code",
   "execution_count": 8,
   "metadata": {},
   "outputs": [
    {
     "name": "stdout",
     "output_type": "stream",
     "text": [
      "8.246211251235321\n"
     ]
    }
   ],
   "source": [
    "# Con alias\n",
    "# Con estos puedes ponerle un nombre a los módulos o funciones para acordarte y no tener conflictos con otros nombres:\n",
    "import math as m\n",
    "resultado2 = m.sqrt(68)\n",
    "print(resultado2)"
   ]
  },
  {
   "cell_type": "markdown",
   "metadata": {},
   "source": [
    "* La importacion de módulos de terceros se puede instalar o importar, estos normalmente se pueden instalar usando pip."
   ]
  },
  {
   "cell_type": "code",
   "execution_count": 9,
   "metadata": {},
   "outputs": [
    {
     "name": "stdout",
     "output_type": "stream",
     "text": [
      "Requirement already satisfied: numpy in c:\\users\\zarim\\appdata\\local\\programs\\python\\python313\\lib\\site-packages (2.2.4)\n",
      "Note: you may need to restart the kernel to use updated packages.\n"
     ]
    },
    {
     "name": "stderr",
     "output_type": "stream",
     "text": [
      "\n",
      "[notice] A new release of pip is available: 24.3.1 -> 25.0.1\n",
      "[notice] To update, run: python.exe -m pip install --upgrade pip\n"
     ]
    }
   ],
   "source": [
    "pip install numpy"
   ]
  },
  {
   "cell_type": "code",
   "execution_count": 10,
   "metadata": {},
   "outputs": [
    {
     "name": "stdout",
     "output_type": "stream",
     "text": [
      "[137  57  48  42]\n"
     ]
    }
   ],
   "source": [
    "# Ejemplo\n",
    "import numpy as NP\n",
    "Err = NP.array([137,57,48,42])\n",
    "print(Err)"
   ]
  }
 ],
 "metadata": {
  "kernelspec": {
   "display_name": "Python 3",
   "language": "python",
   "name": "python3"
  },
  "language_info": {
   "codemirror_mode": {
    "name": "ipython",
    "version": 3
   },
   "file_extension": ".py",
   "mimetype": "text/x-python",
   "name": "python",
   "nbconvert_exporter": "python",
   "pygments_lexer": "ipython3",
   "version": "3.13.1"
  }
 },
 "nbformat": 4,
 "nbformat_minor": 2
}
