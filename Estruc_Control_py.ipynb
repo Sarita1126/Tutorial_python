{
 "cells": [
  {
   "cell_type": "markdown",
   "metadata": {},
   "source": [
    "# **Estructuras de control**"
   ]
  },
  {
   "cell_type": "markdown",
   "metadata": {},
   "source": [
    "En Python son fundamentales para dirigir el flujo de ejecución del programa. \n",
    "Nos permiten tomar decisiones, realizar repeticiones y manejar excepciones. \n",
    "Las principales estructuras de control en Python son:"
   ]
  },
  {
   "cell_type": "markdown",
   "metadata": {},
   "source": [
    "### *Condicionales (if, elif, else)*"
   ]
  },
  {
   "cell_type": "markdown",
   "metadata": {},
   "source": [
    "Estas estructuras permiten que un programa tome decisiones dinámicas en función de condiciones específicas. En Python, se evalúa una expresión booleana (que puede resultar en True o False), y, dependiendo del resultado, se ejecuta el bloque de código asociado a dicha condición. Esto brinda flexibilidad y control sobre el flujo del programa, permitiendo adaptar su comportamiento según los datos o situaciones que se presenten."
   ]
  },
  {
   "cell_type": "markdown",
   "metadata": {},
   "source": [
    "* **if**: evalua una condición;  si es *True* ejecuta el código asociado\n",
    "* **elfit**: se utiliza para evaluar dondiciones adicionales si el *if* inicial no se cumple\n",
    "* **else**: se ejecuta si ninguna de las condicones anteriores se cumple (*True*)"
   ]
  },
  {
   "cell_type": "code",
   "execution_count": 1,
   "metadata": {},
   "outputs": [
    {
     "name": "stdout",
     "output_type": "stream",
     "text": [
      "Eres mayor de edad\n"
     ]
    }
   ],
   "source": [
    "Edad = 21\n",
    "if Edad < 18:\n",
    "    print(\"Eres menor de edad\")\n",
    "elif Edad == 18:\n",
    "    print(\"Tienes 18 años\")\n",
    "else:\n",
    "    print(\"Eres mayor de edad\")"
   ]
  },
  {
   "cell_type": "code",
   "execution_count": 10,
   "metadata": {},
   "outputs": [
    {
     "name": "stdout",
     "output_type": "stream",
     "text": [
      "Tienes la experiencia necesaria\n"
     ]
    }
   ],
   "source": [
    "Exper = 5\n",
    "if Exper <= 3:\n",
    "    print(\"No cumples con la experiencia requerida\")\n",
    "elif Exper == 5:\n",
    "    print(\"Tienes la experiencia necesaria\")\n",
    "else:\n",
    "    print(\"Cumples con mas de la experiencia exigida\")\n",
    "    "
   ]
  },
  {
   "cell_type": "markdown",
   "metadata": {},
   "source": [
    "### *Bucles o Loops (for, while)*"
   ]
  },
  {
   "cell_type": "markdown",
   "metadata": {},
   "source": [
    "Los bucles permiten repetir un bloque de código varias veces, lo que es útil cuando queremos iterar sobre una colección de datos o repetir una tarea hasta que se cumpla una condición."
   ]
  },
  {
   "cell_type": "markdown",
   "metadata": {},
   "source": [
    "* **for**: se usa para iterar sobre una secuencia (como una lista, tupla, cadena o rango de números) En cada iteración el valor de un elemento de la secuencia es asignado a una variable.\n",
    "* **while**: ejecuta un bloque de código mientras una condición sea verdadero (*True*) se sigue ejecutando hasta que la condición se vuelve faalsa (*False*)"
   ]
  },
  {
   "cell_type": "code",
   "execution_count": 11,
   "metadata": {},
   "outputs": [
    {
     "name": "stdout",
     "output_type": "stream",
     "text": [
      "11\n",
      "12\n",
      "13\n",
      "14\n"
     ]
    }
   ],
   "source": [
    "# Ejemplo con \"for\"\n",
    "for número in [11,12,13,14]:\n",
    "    print(número)"
   ]
  },
  {
   "cell_type": "code",
   "execution_count": 12,
   "metadata": {},
   "outputs": [
    {
     "name": "stdout",
     "output_type": "stream",
     "text": [
      "0\n",
      "1\n",
      "2\n",
      "3\n",
      "4\n",
      "5\n",
      "6\n",
      "7\n",
      "8\n",
      "9\n"
     ]
    }
   ],
   "source": [
    "# Ejemplo con \"for\" con rango\n",
    "for i in range(10):\n",
    "    print(i)"
   ]
  },
  {
   "cell_type": "code",
   "execution_count": 13,
   "metadata": {},
   "outputs": [
    {
     "name": "stdout",
     "output_type": "stream",
     "text": [
      "0\n",
      "1\n",
      "2\n",
      "3\n",
      "4\n"
     ]
    }
   ],
   "source": [
    "# Ejemplo con (while)\n",
    "Economista = 0\n",
    "while Economista < 5:\n",
    "    print(Economista)\n",
    "    Economista += 1"
   ]
  },
  {
   "cell_type": "markdown",
   "metadata": {},
   "source": [
    "Puedes interrumpir los bucles con (**break,continue,pass**) estas palabras modifican el comportamiento de los bucles.\n",
    "* **Break**: se utiliza para salir completamente del bucle, incluso si la condición no ha terminado\n",
    "* **Continue**: omite la iteración actual y continúa con la siguiente\n",
    "* **Pass**: no hace nada, es útil como un marcador de posición cuando se requiere un bloque de código pero aún no está implementando "
   ]
  },
  {
   "cell_type": "code",
   "execution_count": 14,
   "metadata": {},
   "outputs": [
    {
     "name": "stdout",
     "output_type": "stream",
     "text": [
      "5\n"
     ]
    }
   ],
   "source": [
    "# Ejemplo con Break\n",
    "for i in range(10):\n",
    "    if i ==5:\n",
    "        break # Este indica que el bucle se termina cuando i es 5\n",
    "print(i)"
   ]
  },
  {
   "cell_type": "code",
   "execution_count": 18,
   "metadata": {},
   "outputs": [
    {
     "name": "stdout",
     "output_type": "stream",
     "text": [
      "4\n"
     ]
    }
   ],
   "source": [
    "# Ejemplo de Continue\n",
    "for i in range(5):\n",
    "    if i == 3:\n",
    "        continue # Este indica que se salte el número 3\n",
    "print(i)"
   ]
  },
  {
   "cell_type": "code",
   "execution_count": 19,
   "metadata": {},
   "outputs": [
    {
     "name": "stdout",
     "output_type": "stream",
     "text": [
      "4\n"
     ]
    }
   ],
   "source": [
    "# Ejemplo con Pass\n",
    "for i in range(5):\n",
    "    if i == 3:\n",
    "        pass # Este no hace nada en la iteración\n",
    "print(i)"
   ]
  },
  {
   "cell_type": "markdown",
   "metadata": {},
   "source": [
    "### *Manejo de excepciones (try,except,finally)*"
   ]
  },
  {
   "cell_type": "markdown",
   "metadata": {},
   "source": [
    "Estas estructuras permiten manejar los errores o excepciones que podrían ocurrir durante la ejecución de programa.\n",
    "* **Try**: se coloca el código que puede generar una excepción\n",
    "* **Except**: aquí se captura y maneja la excepción \n",
    "* **Finally**: se ejecuta independientemente de si ocurre o no una excepción"
   ]
  },
  {
   "cell_type": "code",
   "execution_count": 20,
   "metadata": {},
   "outputs": [
    {
     "name": "stdout",
     "output_type": "stream",
     "text": [
      "Error: Division por cero\n",
      "Final del manejo de excepciones\n"
     ]
    }
   ],
   "source": [
    "# Ejemplo de cuando se divide por cero\n",
    "try:\n",
    "    division = 13/0\n",
    "except ZeroDivisionError:\n",
    "    print(\"Error: Division por cero\")\n",
    "finally:\n",
    "    print(\"Final del manejo de excepciones\")    "
   ]
  },
  {
   "cell_type": "markdown",
   "metadata": {},
   "source": [
    "### *Comprensión de listas (list comprehensions*)"
   ]
  },
  {
   "cell_type": "markdown",
   "metadata": {},
   "source": [
    "Es una forma concisa  de crear listas basadas en bucles for y condicionales"
   ]
  },
  {
   "cell_type": "code",
   "execution_count": 22,
   "metadata": {},
   "outputs": [
    {
     "name": "stdout",
     "output_type": "stream",
     "text": [
      "['Sara', 'Luisa', 'Johana']\n"
     ]
    }
   ],
   "source": [
    "# Ejemplo para eliminar caracteres de una lista\n",
    "Student = [\"Sara26\", \"Luisa30\", \"Johana25\"]\n",
    "Student_clean = [Student.rstrip(\"02564899083\") for Student in Student]\n",
    "print(Student_clean)"
   ]
  },
  {
   "cell_type": "code",
   "execution_count": 23,
   "metadata": {},
   "outputs": [
    {
     "data": {
      "text/plain": [
       "['Desaprueba', 'Aprueba', 'Aprueba', 'Aprueba']"
      ]
     },
     "execution_count": 23,
     "metadata": {},
     "output_type": "execute_result"
    }
   ],
   "source": [
    "# Ejemplo para ver los condicionales en comprensiones de lista\n",
    "notas = [2.0, 3.0, 4.5, 5.0]\n",
    "[\"Aprueba\"if nota >= 3 else \"Desaprueba\" for nota in notas]"
   ]
  }
 ],
 "metadata": {
  "kernelspec": {
   "display_name": "Python 3",
   "language": "python",
   "name": "python3"
  },
  "language_info": {
   "codemirror_mode": {
    "name": "ipython",
    "version": 3
   },
   "file_extension": ".py",
   "mimetype": "text/x-python",
   "name": "python",
   "nbconvert_exporter": "python",
   "pygments_lexer": "ipython3",
   "version": "3.13.1"
  }
 },
 "nbformat": 4,
 "nbformat_minor": 2
}
